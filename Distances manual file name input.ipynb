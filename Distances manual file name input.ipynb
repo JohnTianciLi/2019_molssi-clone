{
 "cells": [
  {
   "cell_type": "code",
   "execution_count": 3,
   "metadata": {},
   "outputs": [
    {
     "name": "stdout",
     "output_type": "stream",
     "text": [
      "The bond between O to H1 has a distance of 0.9690005374652793\n",
      "The bond between O to H2 has a distance of 0.9690003348647513\n",
      "There is no bond between H1 to H2. The distance between the two atoms is 1.52693633514957\n"
     ]
    }
   ],
   "source": [
    "import os\n",
    "import numpy\n",
    "import sys\n",
    "\n",
    "def calculate_distance(coords1,coords2):\n",
    "    \"\"\"\n",
    "    Documentation string.\n",
    "    This function accepts coords of 2 atoms, and calculates distance between atoms.\n",
    "    \"\"\"\n",
    "    dx2=(coords1[0]-coords2[0])**2\n",
    "    dy2=(coords1[1]-coords2[1])**2\n",
    "    dz2=(coords1[2]-coords2[2])**2\n",
    "    dr=(dx2+dy2+dz2)**0.5\n",
    "    return dr\n",
    "\n",
    "def bondcheck(distance):\n",
    "    if 0<distance<1.5:\n",
    "        return True\n",
    "    else:\n",
    "        return False\n",
    "#argv 0 is program, argv 1 is the argument. argv1 needs to be the whole path of the file that you want as the argument.\n",
    "file_location=os.path.join('water.xyz')\n",
    "#print(file_location)\n",
    "xyz_file=numpy.genfromtxt(file_location, skip_header=2, dtype='unicode')\n",
    "#print(xyz_file)\n",
    "symbols=xyz_file[:,0]\n",
    "#print(symbols)\n",
    "coordinates=xyz_file[:,1:4]\n",
    "coordinates=coordinates.astype(numpy.float)\n",
    "#print(coordinates)\n",
    "howmany=len(symbols)\n",
    "for i in range(0,howmany):\n",
    "    for k in range(1,howmany-i):\n",
    "        howfar=calculate_distance(coordinates[i],coordinates[i+k])\n",
    "        if bondcheck(howfar) is True:\n",
    "            print(F'The bond between {symbols[i]} to {symbols[i+k]} has a distance of {howfar}')\n",
    "        else:\n",
    "            print(F'There is no bond between {symbols[i]} to {symbols[i+k]}. The distance between the two atoms is {howfar}')"
   ]
  },
  {
   "cell_type": "code",
   "execution_count": null,
   "metadata": {},
   "outputs": [],
   "source": []
  }
 ],
 "metadata": {
  "kernelspec": {
   "display_name": "Python 3",
   "language": "python",
   "name": "python3"
  },
  "language_info": {
   "codemirror_mode": {
    "name": "ipython",
    "version": 3
   },
   "file_extension": ".py",
   "mimetype": "text/x-python",
   "name": "python",
   "nbconvert_exporter": "python",
   "pygments_lexer": "ipython3",
   "version": "3.7.3"
  }
 },
 "nbformat": 4,
 "nbformat_minor": 2
}
