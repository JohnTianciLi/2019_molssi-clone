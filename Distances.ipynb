{
 "cells": [
  {
   "cell_type": "code",
   "execution_count": 1,
   "metadata": {},
   "outputs": [],
   "source": [
    "import os\n",
    "import numpy\n"
   ]
  },
  {
   "cell_type": "code",
   "execution_count": 2,
   "metadata": {},
   "outputs": [
    {
     "data": {
      "text/plain": [
       "'C:\\\\Users\\\\johnt\\\\Desktop\\\\cms-workshop\\\\data\\\\data'"
      ]
     },
     "execution_count": 2,
     "metadata": {},
     "output_type": "execute_result"
    }
   ],
   "source": [
    "pwd"
   ]
  },
  {
   "cell_type": "code",
   "execution_count": 5,
   "metadata": {},
   "outputs": [
    {
     "name": "stdout",
     "output_type": "stream",
     "text": [
      "water.xyz\n"
     ]
    }
   ],
   "source": [
    "file_location=os.path.join('water.xyz')\n",
    "print(file_location)"
   ]
  },
  {
   "cell_type": "code",
   "execution_count": 10,
   "metadata": {},
   "outputs": [
    {
     "name": "stdout",
     "output_type": "stream",
     "text": [
      "[['O' '0.000000' '-0.007156' '0.965491']\n",
      " ['H1' '-0.000000' '0.001486' '-0.003471']\n",
      " ['H2' '0.000000' '0.931026' '1.207929']]\n"
     ]
    }
   ],
   "source": [
    "xyz_file=numpy.genfromtxt(file_location, skip_header=2, dtype='unicode')\n",
    "print(xyz_file)"
   ]
  },
  {
   "cell_type": "code",
   "execution_count": 22,
   "metadata": {},
   "outputs": [
    {
     "name": "stdout",
     "output_type": "stream",
     "text": [
      "['O' 'H1' 'H2']\n",
      "[[ 0.       -0.007156  0.965491]\n",
      " [-0.        0.001486 -0.003471]\n",
      " [ 0.        0.931026  1.207929]]\n"
     ]
    }
   ],
   "source": [
    "symbols=xyz_file[:,0]\n",
    "print(symbols)\n",
    "coordinates=xyz_file[:,1:4]\n",
    "coordinates=coordinates.astype(numpy.float)\n",
    "print(coordinates)"
   ]
  },
  {
   "cell_type": "code",
   "execution_count": 38,
   "metadata": {},
   "outputs": [
    {
     "name": "stdout",
     "output_type": "stream",
     "text": [
      "O to H1 0.9690005374652793\n",
      "H1 to H2 1.52693633514957\n",
      "H2 to O 0.9690003348647513\n"
     ]
    }
   ],
   "source": [
    "howmany=len(symbols)\n",
    "for i in range(0,howmany):\n",
    "    if (i+1)<howmany:\n",
    "        dx2=(coordinates[i,0]-coordinates[i+1,0])**2\n",
    "        dy2=(coordinates[i,1]-coordinates[i+1,1])**2\n",
    "        dz2=(coordinates[i,2]-coordinates[i+1,2])**2\n",
    "        dr=(dx2+dy2+dz2)**0.5\n",
    "        print(F'{symbols[i]} to {symbols[i+1]}', dr)\n",
    "    else:\n",
    "        dx2=(coordinates[i,0]-coordinates[0,0])**2\n",
    "        dy2=(coordinates[i,1]-coordinates[0,1])**2\n",
    "        dz2=(coordinates[i,2]-coordinates[0,2])**2\n",
    "        dr=(dx2+dy2+dz2)**0.5\n",
    "        print(F'{symbols[i]} to {symbols[0]}', dr)    "
   ]
  },
  {
   "cell_type": "code",
   "execution_count": null,
   "metadata": {},
   "outputs": [],
   "source": []
  },
  {
   "cell_type": "code",
   "execution_count": 42,
   "metadata": {},
   "outputs": [
    {
     "name": "stdout",
     "output_type": "stream",
     "text": [
      "C:\\Users\\johnt\\Desktop\\cms-workshop\\data\\data\n",
      "water.xyz\n",
      "[['O' '0.000000' '-0.007156' '0.965491']\n",
      " ['H1' '-0.000000' '0.001486' '-0.003471']\n",
      " ['H2' '0.000000' '0.931026' '1.207929']]\n",
      "['O' 'H1' 'H2']\n",
      "[[ 0.       -0.007156  0.965491]\n",
      " [-0.        0.001486 -0.003471]\n",
      " [ 0.        0.931026  1.207929]]\n",
      "O to H1 0.0\n",
      "O to H1 0.9690005374652793\n",
      "H1 to H2 0.0\n",
      "H1 to H2 1.52693633514957\n",
      "H2 to O 0.9690003348647513\n",
      "H2 to O 0.9690003348647513\n"
     ]
    }
   ],
   "source": [
    "import os\n",
    "import numpy\n",
    "print(os.getcwd())\n",
    "file_location=os.path.join('water.xyz')\n",
    "print(file_location)\n",
    "xyz_file=numpy.genfromtxt(file_location, skip_header=2, dtype='unicode')\n",
    "print(xyz_file)\n",
    "symbols=xyz_file[:,0]\n",
    "print(symbols)\n",
    "coordinates=xyz_file[:,1:4]\n",
    "coordinates=coordinates.astype(numpy.float)\n",
    "print(coordinates)\n",
    "howmany=len(symbols)\n",
    "for i in range(0,howmany):\n",
    "    for k in range(0,howmany-1):\n",
    "        if (i+1)<howmany:\n",
    "            dx2=(coordinates[i,0]-coordinates[i+k,0])**2\n",
    "            dy2=(coordinates[i,1]-coordinates[i+k,1])**2\n",
    "            dz2=(coordinates[i,2]-coordinates[i+k,2])**2\n",
    "            dr=(dx2+dy2+dz2)**0.5\n",
    "            print(F'{symbols[i]} to {symbols[i+1]}', dr)\n",
    "        else:\n",
    "            dx2=(coordinates[i,0]-coordinates[0,0])**2\n",
    "            dy2=(coordinates[i,1]-coordinates[0,1])**2\n",
    "            dz2=(coordinates[i,2]-coordinates[0,2])**2\n",
    "            dr=(dx2+dy2+dz2)**0.5\n",
    "            print(F'{symbols[i]} to {symbols[0]}', dr)    "
   ]
  },
  {
   "cell_type": "code",
   "execution_count": 49,
   "metadata": {},
   "outputs": [
    {
     "name": "stdout",
     "output_type": "stream",
     "text": [
      "C:\\Users\\johnt\\Desktop\\cms-workshop\\data\\data\n",
      "water.xyz\n",
      "[['O' '0.000000' '-0.007156' '0.965491']\n",
      " ['H1' '-0.000000' '0.001486' '-0.003471']\n",
      " ['H2' '0.000000' '0.931026' '1.207929']]\n",
      "['O' 'H1' 'H2']\n",
      "[[ 0.       -0.007156  0.965491]\n",
      " [-0.        0.001486 -0.003471]\n",
      " [ 0.        0.931026  1.207929]]\n",
      "O to H1 0.9690005374652793\n",
      "O to H2 0.9690003348647513\n",
      "H1 to H2 1.52693633514957\n"
     ]
    }
   ],
   "source": [
    "#Most Efficient\n",
    "import os\n",
    "import numpy\n",
    "print(os.getcwd())\n",
    "file_location=os.path.join('water.xyz')\n",
    "print(file_location)\n",
    "xyz_file=numpy.genfromtxt(file_location, skip_header=2, dtype='unicode')\n",
    "print(xyz_file)\n",
    "symbols=xyz_file[:,0]\n",
    "print(symbols)\n",
    "coordinates=xyz_file[:,1:4]\n",
    "coordinates=coordinates.astype(numpy.float)\n",
    "print(coordinates)\n",
    "howmany=len(symbols)\n",
    "for i in range(0,howmany):\n",
    "    for k in range(1,howmany-i):\n",
    "            dx2=(coordinates[i,0]-coordinates[i+k,0])**2\n",
    "            dy2=(coordinates[i,1]-coordinates[i+k,1])**2\n",
    "            dz2=(coordinates[i,2]-coordinates[i+k,2])**2\n",
    "            dr=(dx2+dy2+dz2)**0.5\n",
    "            print(F'{symbols[i]} to {symbols[i+k]}', dr)\n"
   ]
  },
  {
   "cell_type": "code",
   "execution_count": 53,
   "metadata": {},
   "outputs": [
    {
     "name": "stdout",
     "output_type": "stream",
     "text": [
      "C:\\Users\\johnt\\Desktop\\cms-workshop\\data\\data\n",
      "water.xyz\n",
      "[['O' '0.000000' '-0.007156' '0.965491']\n",
      " ['H1' '-0.000000' '0.001486' '-0.003471']\n",
      " ['H2' '0.000000' '0.931026' '1.207929']]\n",
      "['O' 'H1' 'H2']\n",
      "[[ 0.       -0.007156  0.965491]\n",
      " [-0.        0.001486 -0.003471]\n",
      " [ 0.        0.931026  1.207929]]\n",
      "The bond between O to H1 has a distance of  0.9690005374652793\n",
      "The bond between O to H2 has a distance of  0.9690003348647513\n",
      "There is no bond between H1 to H2. The distance between the two atoms is  1.52693633514957\n"
     ]
    }
   ],
   "source": [
    "import os\n",
    "import numpy\n",
    "print(os.getcwd())\n",
    "file_location=os.path.join('water.xyz')\n",
    "print(file_location)\n",
    "xyz_file=numpy.genfromtxt(file_location, skip_header=2, dtype='unicode')\n",
    "print(xyz_file)\n",
    "symbols=xyz_file[:,0]\n",
    "print(symbols)\n",
    "coordinates=xyz_file[:,1:4]\n",
    "coordinates=coordinates.astype(numpy.float)\n",
    "print(coordinates)\n",
    "howmany=len(symbols)\n",
    "for i in range(0,howmany):\n",
    "    for k in range(1,howmany-i):\n",
    "        dx2=(coordinates[i,0]-coordinates[i+k,0])**2\n",
    "        dy2=(coordinates[i,1]-coordinates[i+k,1])**2\n",
    "        dz2=(coordinates[i,2]-coordinates[i+k,2])**2\n",
    "        dr=(dx2+dy2+dz2)**0.5\n",
    "        if dr<1.5:    \n",
    "            print(F'The bond between {symbols[i]} to {symbols[i+k]} has a distance of ', dr)\n",
    "        else:\n",
    "            print(F'There is no bond between {symbols[i]} to {symbols[i+k]}. The distance between the two atoms is ', dr)\n"
   ]
  },
  {
   "cell_type": "code",
   "execution_count": 55,
   "metadata": {},
   "outputs": [],
   "source": [
    "#function is a piece of code that does one particular task"
   ]
  },
  {
   "cell_type": "code",
   "execution_count": 80,
   "metadata": {},
   "outputs": [],
   "source": [
    "def drbtwnatoms(filename_string):\n",
    "    import os\n",
    "    import numpy\n",
    "    print(os.getcwd())\n",
    "    file_location=os.path.join(filename_string)\n",
    "    print(file_location)\n",
    "    xyz_file=numpy.genfromtxt(file_location, skip_header=2, dtype='unicode')\n",
    "    print(xyz_file)\n",
    "    symbols=xyz_file[:,0]\n",
    "    print(symbols)\n",
    "    coordinates=xyz_file[:,1:4]\n",
    "    coordinates=coordinates.astype(numpy.float)\n",
    "    print(coordinates)\n",
    "    howmany=len(symbols)\n",
    "    for i in range(0,howmany):\n",
    "        for k in range(1,howmany-i):\n",
    "            dx2=(coordinates[i,0]-coordinates[i+k,0])**2\n",
    "            dy2=(coordinates[i,1]-coordinates[i+k,1])**2\n",
    "            dz2=(coordinates[i,2]-coordinates[i+k,2])**2\n",
    "            dr=(dx2+dy2+dz2)**0.5\n",
    "            if dr<1.5:    \n",
    "                print(F'The bond between {symbols[i]} to {symbols[i+k]} has a distance of ', dr)\n",
    "            else:\n",
    "                print(F'There is no bond between {symbols[i]} to {symbols[i+k]}. The distance between the two atoms is ', dr)\n",
    "                \n"
   ]
  },
  {
   "cell_type": "code",
   "execution_count": 77,
   "metadata": {},
   "outputs": [
    {
     "data": {
      "text/plain": [
       "<function __main__.drbtwnatoms(filename_string)>"
      ]
     },
     "execution_count": 77,
     "metadata": {},
     "output_type": "execute_result"
    }
   ],
   "source": [
    "drbtwnatoms"
   ]
  },
  {
   "cell_type": "code",
   "execution_count": 81,
   "metadata": {},
   "outputs": [
    {
     "name": "stdout",
     "output_type": "stream",
     "text": [
      "C:\\Users\\johnt\\Desktop\\cms-workshop\\data\\data\n",
      "water.xyz\n",
      "[['O' '0.000000' '-0.007156' '0.965491']\n",
      " ['H1' '-0.000000' '0.001486' '-0.003471']\n",
      " ['H2' '0.000000' '0.931026' '1.207929']]\n",
      "['O' 'H1' 'H2']\n",
      "[[ 0.       -0.007156  0.965491]\n",
      " [-0.        0.001486 -0.003471]\n",
      " [ 0.        0.931026  1.207929]]\n",
      "The bond between O to H1 has a distance of  0.9690005374652793\n",
      "The bond between O to H2 has a distance of  0.9690003348647513\n",
      "There is no bond between H1 to H2. The distance between the two atoms is  1.52693633514957\n"
     ]
    }
   ],
   "source": [
    "drbtwnatoms('water.xyz')"
   ]
  },
  {
   "cell_type": "code",
   "execution_count": 63,
   "metadata": {},
   "outputs": [
    {
     "data": {
      "text/plain": [
       "<function __main__.drbtwnatoms(filename)>"
      ]
     },
     "execution_count": 63,
     "metadata": {},
     "output_type": "execute_result"
    }
   ],
   "source": [
    "drbtwnatoms"
   ]
  },
  {
   "cell_type": "code",
   "execution_count": 67,
   "metadata": {},
   "outputs": [
    {
     "data": {
      "text/plain": [
       "<function __main__.drbtwnatoms(filename_string)>"
      ]
     },
     "execution_count": 67,
     "metadata": {},
     "output_type": "execute_result"
    }
   ],
   "source": [
    "drbtwnatoms"
   ]
  },
  {
   "cell_type": "code",
   "execution_count": 70,
   "metadata": {},
   "outputs": [
    {
     "ename": "NameError",
     "evalue": "name 'water' is not defined",
     "output_type": "error",
     "traceback": [
      "\u001b[1;31m---------------------------------------------------------------------------\u001b[0m",
      "\u001b[1;31mNameError\u001b[0m                                 Traceback (most recent call last)",
      "\u001b[1;32m<ipython-input-70-a08275a84389>\u001b[0m in \u001b[0;36m<module>\u001b[1;34m\u001b[0m\n\u001b[1;32m----> 1\u001b[1;33m \u001b[0mdrbtwnatoms\u001b[0m\u001b[1;33m(\u001b[0m\u001b[0mwater\u001b[0m\u001b[1;33m.\u001b[0m\u001b[0mxyz\u001b[0m\u001b[1;33m)\u001b[0m\u001b[1;33m\u001b[0m\u001b[1;33m\u001b[0m\u001b[0m\n\u001b[0m",
      "\u001b[1;31mNameError\u001b[0m: name 'water' is not defined"
     ]
    }
   ],
   "source": [
    "drbtwnatoms(water.xyz)"
   ]
  },
  {
   "cell_type": "markdown",
   "metadata": {},
   "source": [
    "def function_name(parameters):\n",
    "    code\n",
    "    return Value_to_return"
   ]
  },
  {
   "cell_type": "code",
   "execution_count": 91,
   "metadata": {},
   "outputs": [],
   "source": [
    "def drbtwnatoms(filename_string):\n",
    "    import os\n",
    "    import numpy\n",
    "    print(os.getcwd())\n",
    "    file_location=os.path.join(filename_string)\n",
    "    print(file_location)\n",
    "    xyz_file=numpy.genfromtxt(file_location, skip_header=2, dtype='unicode')\n",
    "    print(xyz_file)\n",
    "    symbols=xyz_file[:,0]\n",
    "    print(symbols)\n",
    "    coordinates=xyz_file[:,1:4]\n",
    "    coordinates=coordinates.astype(numpy.float)\n",
    "    print(coordinates)\n",
    "    howmany=len(symbols)\n",
    "    distances=[]\n",
    "    for i in range(0,howmany):\n",
    "        for k in range(1,howmany-i):\n",
    "            dx2=(coordinates[i,0]-coordinates[i+k,0])**2\n",
    "            dy2=(coordinates[i,1]-coordinates[i+k,1])**2\n",
    "            dz2=(coordinates[i,2]-coordinates[i+k,2])**2\n",
    "            dr=(dx2+dy2+dz2)**0.5\n",
    "            if dr<1.5:    \n",
    "                distances.append(F'The bond between {symbols[i]} to {symbols[i+k]} has a distance of {dr}')\n",
    "            else:\n",
    "                distances.append(F'There is no bond between {symbols[i]} to {symbols[i+k]}. The distance between the two atoms is {dr}')\n",
    "    return distances"
   ]
  },
  {
   "cell_type": "code",
   "execution_count": 92,
   "metadata": {
    "scrolled": false
   },
   "outputs": [
    {
     "name": "stdout",
     "output_type": "stream",
     "text": [
      "C:\\Users\\johnt\\Desktop\\cms-workshop\\data\\data\n",
      "water.xyz\n",
      "[['O' '0.000000' '-0.007156' '0.965491']\n",
      " ['H1' '-0.000000' '0.001486' '-0.003471']\n",
      " ['H2' '0.000000' '0.931026' '1.207929']]\n",
      "['O' 'H1' 'H2']\n",
      "[[ 0.       -0.007156  0.965491]\n",
      " [-0.        0.001486 -0.003471]\n",
      " [ 0.        0.931026  1.207929]]\n"
     ]
    },
    {
     "data": {
      "text/plain": [
       "['The bond between O to H1 has a distance of 0.9690005374652793',\n",
       " 'The bond between O to H2 has a distance of 0.9690003348647513',\n",
       " 'There is no bond between H1 to H2. The distance between the two atoms is 1.52693633514957']"
      ]
     },
     "execution_count": 92,
     "metadata": {},
     "output_type": "execute_result"
    }
   ],
   "source": [
    "drbtwnatoms('water.xyz')"
   ]
  },
  {
   "cell_type": "code",
   "execution_count": 110,
   "metadata": {},
   "outputs": [],
   "source": [
    "def calculate_distance(coords1,coords2):\n",
    "    \"\"\"\n",
    "    Documentation string.\n",
    "    This function accepts coords of 2 atoms, and calculates distance between atoms.\n",
    "    \"\"\"\n",
    "    dx2=(coords1[0]-coords2[0])**2\n",
    "    dy2=(coords1[1]-coords2[1])**2\n",
    "    dz2=(coords1[2]-coords2[2])**2\n",
    "    dr=(dx2+dy2+dz2)**0.5\n",
    "    return dr\n"
   ]
  },
  {
   "cell_type": "code",
   "execution_count": 126,
   "metadata": {},
   "outputs": [],
   "source": [
    "def bondcheck(distance):\n",
    "    if 0<distance<1.5:\n",
    "        return True\n",
    "    else:\n",
    "        return False"
   ]
  },
  {
   "cell_type": "code",
   "execution_count": 127,
   "metadata": {
    "scrolled": true
   },
   "outputs": [
    {
     "name": "stdout",
     "output_type": "stream",
     "text": [
      "C:\\Users\\johnt\\Desktop\\cms-workshop\\data\\data\n",
      "water.xyz\n",
      "[['O' '0.000000' '-0.007156' '0.965491']\n",
      " ['H1' '-0.000000' '0.001486' '-0.003471']\n",
      " ['H2' '0.000000' '0.931026' '1.207929']]\n",
      "['O' 'H1' 'H2']\n",
      "[[ 0.       -0.007156  0.965491]\n",
      " [-0.        0.001486 -0.003471]\n",
      " [ 0.        0.931026  1.207929]]\n",
      "The bond between O to H1 has a distance of 0.9690005374652793\n",
      "The bond between O to H2 has a distance of 0.9690003348647513\n",
      "There is no bond between H1 to H2. The distance between the two atoms is 1.52693633514957\n"
     ]
    }
   ],
   "source": [
    "import os\n",
    "import numpy\n",
    "print(os.getcwd())\n",
    "file_location=os.path.join('water.xyz')\n",
    "print(file_location)\n",
    "xyz_file=numpy.genfromtxt(file_location, skip_header=2, dtype='unicode')\n",
    "print(xyz_file)\n",
    "symbols=xyz_file[:,0]\n",
    "print(symbols)\n",
    "coordinates=xyz_file[:,1:4]\n",
    "coordinates=coordinates.astype(numpy.float)\n",
    "print(coordinates)\n",
    "howmany=len(symbols)\n",
    "for i in range(0,howmany):\n",
    "    for k in range(1,howmany-i):\n",
    "        howfar=calculate_distance(coordinates[i],coordinates[i+k])\n",
    "        if howfar<1.5:    \n",
    "            print(F'The bond between {symbols[i]} to {symbols[i+k]} has a distance of {howfar}')\n",
    "        else:\n",
    "            print(F'There is no bond between {symbols[i]} to {symbols[i+k]}. The distance between the two atoms is {howfar}')"
   ]
  },
  {
   "cell_type": "code",
   "execution_count": 112,
   "metadata": {
    "scrolled": true
   },
   "outputs": [
    {
     "name": "stdout",
     "output_type": "stream",
     "text": [
      "Help on function calculate_distance in module __main__:\n",
      "\n",
      "calculate_distance(coords1, coords2)\n",
      "    Documentation string.\n",
      "    This function accepts coords of 2 atoms, and calculates distance between atoms.\n",
      "\n"
     ]
    }
   ],
   "source": [
    "help(calculate_distance)"
   ]
  },
  {
   "cell_type": "code",
   "execution_count": 119,
   "metadata": {},
   "outputs": [
    {
     "data": {
      "text/plain": [
       "'False'"
      ]
     },
     "execution_count": 119,
     "metadata": {},
     "output_type": "execute_result"
    }
   ],
   "source": [
    "bondcheck(3)"
   ]
  },
  {
   "cell_type": "code",
   "execution_count": 123,
   "metadata": {},
   "outputs": [
    {
     "name": "stdout",
     "output_type": "stream",
     "text": [
      "C:\\Users\\johnt\\Desktop\\cms-workshop\\data\\data\n",
      "water.xyz\n",
      "[['O' '0.000000' '-0.007156' '0.965491']\n",
      " ['H1' '-0.000000' '0.001486' '-0.003471']\n",
      " ['H2' '0.000000' '0.931026' '1.207929']]\n",
      "['O' 'H1' 'H2']\n",
      "[[ 0.       -0.007156  0.965491]\n",
      " [-0.        0.001486 -0.003471]\n",
      " [ 0.        0.931026  1.207929]]\n",
      "The bond between O to H1 has a distance of 0.9690005374652793\n",
      "The bond between O to H2 has a distance of 0.9690003348647513\n",
      "There is no bond between H1 to H2. The distance between the two atoms is 1.52693633514957\n"
     ]
    }
   ],
   "source": [
    "import os\n",
    "import numpy\n",
    "print(os.getcwd())\n",
    "file_location=os.path.join('water.xyz')\n",
    "print(file_location)\n",
    "xyz_file=numpy.genfromtxt(file_location, skip_header=2, dtype='unicode')\n",
    "print(xyz_file)\n",
    "symbols=xyz_file[:,0]\n",
    "print(symbols)\n",
    "coordinates=xyz_file[:,1:4]\n",
    "coordinates=coordinates.astype(numpy.float)\n",
    "print(coordinates)\n",
    "howmany=len(symbols)\n",
    "for i in range(0,howmany):\n",
    "    for k in range(1,howmany-i):\n",
    "        howfar=calculate_distance(coordinates[i],coordinates[i+k])\n",
    "        if bondcheck(howfar) is True:    \n",
    "            print(F'The bond between {symbols[i]} to {symbols[i+k]} has a distance of {howfar}')\n",
    "        else:\n",
    "            print(F'There is no bond between {symbols[i]} to {symbols[i+k]}. The distance between the two atoms is {howfar}')"
   ]
  },
  {
   "cell_type": "code",
   "execution_count": 142,
   "metadata": {},
   "outputs": [],
   "source": [
    "def bondcheck(distance, minimum=0, maximum=1.5): #The equal sign allows for a default.\n",
    "    if minimum<distance<maximum:\n",
    "        return True\n",
    "    else:\n",
    "        return False"
   ]
  },
  {
   "cell_type": "code",
   "execution_count": 136,
   "metadata": {},
   "outputs": [
    {
     "data": {
      "text/plain": [
       "True"
      ]
     },
     "execution_count": 136,
     "metadata": {},
     "output_type": "execute_result"
    }
   ],
   "source": [
    "bondcheck(4.5,4,5)"
   ]
  },
  {
   "cell_type": "code",
   "execution_count": 143,
   "metadata": {},
   "outputs": [
    {
     "name": "stdout",
     "output_type": "stream",
     "text": [
      "C:\\Users\\johnt\\Desktop\\cms-workshop\\data\\data\n",
      "water.xyz\n",
      "[['O' '0.000000' '-0.007156' '0.965491']\n",
      " ['H1' '-0.000000' '0.001486' '-0.003471']\n",
      " ['H2' '0.000000' '0.931026' '1.207929']]\n",
      "['O' 'H1' 'H2']\n",
      "[[ 0.       -0.007156  0.965491]\n",
      " [-0.        0.001486 -0.003471]\n",
      " [ 0.        0.931026  1.207929]]\n",
      "The bond between O to H1 has a distance of 0.9690005374652793\n",
      "The bond between O to H2 has a distance of 0.9690003348647513\n",
      "There is no bond between H1 to H2. The distance between the two atoms is 1.52693633514957\n"
     ]
    }
   ],
   "source": [
    "import os\n",
    "import numpy\n",
    "print(os.getcwd())\n",
    "file_location=os.path.join('water.xyz')\n",
    "print(file_location)\n",
    "xyz_file=numpy.genfromtxt(file_location, skip_header=2, dtype='unicode')\n",
    "print(xyz_file)\n",
    "symbols=xyz_file[:,0]\n",
    "print(symbols)\n",
    "coordinates=xyz_file[:,1:4]\n",
    "coordinates=coordinates.astype(numpy.float)\n",
    "print(coordinates)\n",
    "howmany=len(symbols)\n",
    "for i in range(0,howmany):\n",
    "    for k in range(1,howmany-i):\n",
    "        howfar=calculate_distance(coordinates[i],coordinates[i+k])\n",
    "        if bondcheck(howfar) is True:    \n",
    "            print(F'The bond between {symbols[i]} to {symbols[i+k]} has a distance of {howfar}')\n",
    "        else:\n",
    "            print(F'There is no bond between {symbols[i]} to {symbols[i+k]}. The distance between the two atoms is {howfar}')"
   ]
  },
  {
   "cell_type": "code",
   "execution_count": null,
   "metadata": {},
   "outputs": [],
   "source": [
    "import os\n",
    "import numpy\n",
    "import sys\n",
    "\n",
    "def calculate_distance(coords1,coords2):\n",
    "    \"\"\"\n",
    "    Documentation string.\n",
    "    This function accepts coords of 2 atoms, and calculates distance between atoms.\n",
    "    \"\"\"\n",
    "    dx2=(coords1[0]-coords2[0])**2\n",
    "    dy2=(coords1[1]-coords2[1])**2\n",
    "    dz2=(coords1[2]-coords2[2])**2\n",
    "    dr=(dx2+dy2+dz2)**0.5\n",
    "    return dr\n",
    "\n",
    "def bondcheck(distance):\n",
    "    if 0<distance<1.5:\n",
    "        return True\n",
    "    else:\n",
    "        return False\n",
    "#argv 0 is program, argv 1 is the argument. argv1 needs to be the whole path of the file that you want as the argument.\n",
    "file_location=os.path.join('water.xyz')\n",
    "print(file_location)\n",
    "xyz_file=numpy.genfromtxt(file_location, skip_header=2, dtype='unicode')\n",
    "print(xyz_file)\n",
    "symbols=xyz_file[:,0]\n",
    "print(symbols)\n",
    "coordinates=xyz_file[:,1:4]\n",
    "coordinates=coordinates.astype(numpy.float)\n",
    "print(coordinates)\n",
    "howmany=len(symbols)\n",
    "for i in range(0,howmany):\n",
    "    for k in range(1,howmany-i):\n",
    "        howfar=calculate_distance(coordinates[i],coordinates[i+k])\n",
    "        if bondcheck(howfar) is True:\n",
    "            print(F'The bond between {symbols[i]} to {symbols[i+k]} has a distance of {howfar}')\n",
    "        else:\n",
    "            print(F'There is no bond between {symbols[i]} to {symbols[i+k]}. The distance between the two atoms is {howfar}')\n"
   ]
  }
 ],
 "metadata": {
  "kernelspec": {
   "display_name": "Python 3",
   "language": "python",
   "name": "python3"
  },
  "language_info": {
   "codemirror_mode": {
    "name": "ipython",
    "version": 3
   },
   "file_extension": ".py",
   "mimetype": "text/x-python",
   "name": "python",
   "nbconvert_exporter": "python",
   "pygments_lexer": "ipython3",
   "version": "3.7.3"
  }
 },
 "nbformat": 4,
 "nbformat_minor": 2
}
